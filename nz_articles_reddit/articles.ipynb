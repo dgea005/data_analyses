{
 "cells": [
  {
   "cell_type": "code",
   "execution_count": 36,
   "metadata": {
    "collapsed": false
   },
   "outputs": [],
   "source": [
    "%matplotlib inline\n",
    "import praw\n",
    "import pandas as pd"
   ]
  },
  {
   "cell_type": "code",
   "execution_count": 4,
   "metadata": {
    "collapsed": true
   },
   "outputs": [],
   "source": [
    "## step 1 get reddit instance\n",
    "user_name = 'xxx'\n",
    "pw = 'xxx'\n",
    "client_id = 'xxx'\n",
    "client_secret = 'xxx'\n",
    "user_agent = f'jupyter:jupyter_analysis:v0.0.1 (by /u/{user_name})'"
   ]
  },
  {
   "cell_type": "code",
   "execution_count": 5,
   "metadata": {
    "collapsed": true
   },
   "outputs": [],
   "source": [
    "reddit = praw.Reddit(client_id=client_id,\n",
    "                     client_secret=client_secret,\n",
    "                     user_agent=user_agent)"
   ]
  },
  {
   "cell_type": "code",
   "execution_count": 6,
   "metadata": {
    "collapsed": false
   },
   "outputs": [
    {
     "name": "stdout",
     "output_type": "stream",
     "text": [
      "True\n"
     ]
    }
   ],
   "source": [
    "print(reddit.read_only) "
   ]
  },
  {
   "cell_type": "code",
   "execution_count": 7,
   "metadata": {
    "collapsed": false
   },
   "outputs": [
    {
     "name": "stdout",
     "output_type": "stream",
     "text": [
      "newzealand\n",
      "New Zealand: Tomorrow's Sideswipe, Today!\n",
      "- **Citizen Science - Kererū count 2017!** 22 Sep - 1 Oct.  [Help count Kererū](https://redd.it/70plx3)\n",
      "\n",
      "[/r/NewZealand Night Mode](http://nm.reddit.com/r/NewZealand)\n",
      "\n",
      "[Travelling to New Zealand?](http://bit.ly/nztraveladvice)\n",
      "\n",
      "#Events / meetups\n",
      "\n",
      "* [/r/NewZealand Discord](https://discord.gg/6hdNNWp)\n",
      "\n",
      "* [/r/newzealand IRC chat](https://kiwiirc.com/client/irc.snoonet.org/newzealand?nick=redditor)\n",
      "\n",
      "*Please message the moderators if you would like to advertise a meetup or AMA*\n",
      "\n",
      "#### Local subreddits\n",
      "* [Auckland](/r/auckland \"Auckland\")\n",
      "* [Christchurch](/r/chch \"Christchurch\")\n",
      "* [Wellington](/r/wellington \"Wellington\")\n",
      "* [The Tron](/r/thetron \"The Tron\")\n",
      "* [Dunedin](/r/dunedin \"Dunedin\")\n",
      "* [Hawkes Bay](/r/hawkesbay \"Hawkes Bay\")\n",
      "* [Nelson](/r/nelsonnz \"Nelson\")\n",
      "* [Taranaki](/r/taranaki \"Taranaki\")\n",
      "* [Palmerston North](/r/palmy \"Palmy\")\n",
      "* [Bay of Plenty](/r/bayofplenty \"Bay of Plenty\")\n",
      "* [Blenheim](/r/blenheim \"Blenheim\")\n",
      "* [West Coast](/r/westcoastnz)\n",
      "* [Queenstown](/r/queenstown \"Queenstown\")\n",
      "* [Stewart Island](/r/stewartisland \"Do they even have internet here?\")\n",
      "* [Masterton](/r/masterton \"Masterton\")\n",
      "* [Invercargill](/r/invercargill \"Invercargill\")\n",
      "\n",
      "#Link Flairs\n",
      "###Search by flair\n",
      "\n",
      "* [Politics](/r/newzealand/search?restrict_sr=on&q=flair%3APolitics&sort=relevance&t=all) \n",
      "\n",
      "* [Advice](/r/newzealand/search?restrict_sr=on&q=flair%3AAdvice&sort=relevance&t=all) \n",
      "\n",
      "* [News](/r/newzealand/search?restrict_sr=on&q=flair%3ANews&sort=relevance&t=all) \n",
      "\n",
      "* [Discussion](/r/newzealand/search?restrict_sr=on&q=flair%3ADiscussion&sort=relevance&t=all)\n",
      "\n",
      "* [Picture](/r/newzealand/search?restrict_sr=on&q=flair%3APicture&sort=relevance&t=all)\n",
      "\n",
      "* [Sports](/r/newzealand/search?restrict_sr=on&q=flair%3ASports&sort=relevance&t=all)\n",
      "\n",
      "* [Meta](/r/newzealand/search?restrict_sr=on&q=flair%3AMeta&sort=relevance&t=all) \n",
      "\n",
      "* [Travel](/r/newzealand/search?restrict_sr=on&q=flair%3ATravel%20Advice&sort=relevance&t=all) \n",
      "\n",
      "* [Other](/r/newzealand/search?restrict_sr=on&q=flair%3AOther&sort=relevance&t=all) \n",
      "\n",
      "* [Music](/r/newzealand/search?restrict_sr=on&q=flair%3AMusic&sort=relevance&t=all)\n",
      "\n",
      "* [Civil Defence](/r/newzealand/search?restrict_sr=on&q=flair%3ACivil%2BDefence)\n",
      "\n",
      "* [AMA](/r/newzealand/search?restrict_sr=on&q=flair%3AAMA&sort=relevance&t=all)\n",
      "\n",
      "* [Kiwiana](/r/newzealand/search?restrict_sr=on&q=flair%3AKiwiana&sort=relevance&t=all)\n",
      "\n",
      "##[No Politics](https://po.reddit.com/r/NewZealand#www)  [Display Politics](https://www.reddit.com/r/NewZealand#po)\n",
      "\n",
      "##[No Civil Defence](https://eq.reddit.com/r/NewZealand#ww2)  [Display Civil Defence](https://www.reddit.com/r/NewZealand#eq)\n",
      "\n",
      "# Subreddit Rules\n",
      "\n",
      "\n",
      " ||\n",
      ":-:|:-:\n",
      "Submissions must be directly related to NZ|To discuss unrelated links and how they affect/relate to NZ, use a self/text post.\n",
      "No [doxxing](https://en.wikipedia.org/wiki/Doxing) / collecting user info|No posting or collation of personally identifiable information of other users\n",
      "No harassment or abuse|This is continued harassment, or overt abuse. [Reddit's harassment policy](https://reddit.zendesk.com/hc/en-us/articles/205701155)|\n",
      "No hate speech / bigotry|Any posts that attacks, threatens, or insults a person or group on the basis of national origin, ethnicity and/or colour, religion, gender, sexual orientation, disability and so on may be removed at a mod's discretion \n",
      "Duplicate links will be removed|\n",
      "No [editorialising titles](https://www.reddit.com/r/newzealand/wiki/titles)|Editorialising titles tries to mask or change a story based on the bias of the submitter. Opinions are fine in self-posts or as comments to a link post.\n",
      "No bots unless prior arrangement has been made.|\n",
      "No novelty accounts|Accounts made for a specific purpose that do not contribute in other ways\n",
      "No [Crowdfunding](https://en.wikipedia.org/wiki/Crowdfunding)|No community funding requests without prior approval from the moderators.\n",
      "No breaching name suppression|If you post a link or a comment that identifies a person under a name suppression order, your link / comment will be removed. This includes any direct or indirect reference to the person, or links to other sites that contain the information. Continued breaches of name suppression will result in a ban.\n",
      "Prominent Kiwis must provide proof|If you claim be be a prominent kiwi, please message the mods with proof of your identity, or you run the risk of being banned.\n",
      "CircleJerk submissions go in /r/NZCircleJerk.|Any that don't will see the OP banned for seven days and the post removed.\n",
      "\n",
      "# Further Information\n",
      "\n",
      "## [Search the subreddit (Click here)](/r/newzealand/search?q=&restrict_sr=on&sort=relevance&t=all)\n",
      "\n",
      "### /r/newzealand wiki pages\n",
      "* [Visiting NZ as a tourist](https://www.reddit.com/r/newzealand/wiki/traveladvice#wiki_as_a_tourist)\n",
      "* [Studying in NZ](https://www.reddit.com/r/newzealand/wiki/traveladvice#wiki_studying_in_nz)\n",
      "* [Moving to or working in NZ](https://www.reddit.com/r/newzealand/wiki/traveladvice#wiki_moving_to_or_working_in_nz)\n",
      "* [Useful websites for NZ residents](https://www.reddit.com/r/newzealand/wiki/useful_sites_for_kiwis)\n",
      "* [NZ history links](https://www.reddit.com/r/newzealand/wiki/history)\n",
      "\n",
      "### Other NZ subreddits\n",
      "* **[Full list of NZ related subreddits](http://reddit.com/r/NZMetaHub/comments/10w7ph/directory_of_new_zealand_subreddits/).**\n",
      "\n",
      "### [](#link-filter) \n",
      "> * [QUICK LINKS](#header) [QUICK LINKS](#uncollapse)  \n",
      "* [View all **Daily Discussion** posts](https://www.reddit.com/search?q=title%3ARandom+Discussion+Thread+subreddit%3Anewzealand&sort=new \"discussion\")  \n",
      "* [View all **Moderator** posts](https://www.reddit.com/r/newzealand/wiki/helpful-content/index \"meta\")\n",
      "* [Thinking about moving? **Read this**](https://www.reddit.com/r/newzealand/wiki/index \"memes\")\n"
     ]
    }
   ],
   "source": [
    "subreddit = reddit.subreddit('newzealand')\n",
    "\n",
    "print(subreddit.display_name)  # Output: redditdev\n",
    "print(subreddit.title)         # Output: reddit Development\n",
    "print(subreddit.description)  "
   ]
  },
  {
   "cell_type": "code",
   "execution_count": 14,
   "metadata": {
    "collapsed": false
   },
   "outputs": [
    {
     "name": "stdout",
     "output_type": "stream",
     "text": [
      "Election Results 2: Electorate Boogaloo! - Election Results Live Thread\n",
      "225\n",
      "71wplz\n",
      "https://www.reddit.com/live/zne2660dkv13/\n"
     ]
    }
   ],
   "source": [
    "for submission in subreddit.hot(limit=1):\n",
    "    print(submission.title)  # Output: the submission's title\n",
    "    print(submission.score)  # Output: the submission's score\n",
    "    print(submission.id)     # Output: the submission's ID\n",
    "    print(submission.url) "
   ]
  },
  {
   "cell_type": "code",
   "execution_count": 31,
   "metadata": {
    "collapsed": true
   },
   "outputs": [],
   "source": [
    "submission_urls_nz = [submission.url for submission in subreddit.hot(limit=1000)]"
   ]
  },
  {
   "cell_type": "code",
   "execution_count": 32,
   "metadata": {
    "collapsed": false
   },
   "outputs": [],
   "source": [
    "submission_urls = pd.DataFrame({'url': submission_urls_nz})\n",
    "submission_urls['root_url'] = submission_urls.url.apply(lambda x: x.split('//')[1].split('/')[0])"
   ]
  },
  {
   "cell_type": "code",
   "execution_count": 69,
   "metadata": {
    "collapsed": false
   },
   "outputs": [
    {
     "data": {
      "text/plain": [
       "<matplotlib.axes._subplots.AxesSubplot at 0x7f3856774f60>"
      ]
     },
     "execution_count": 69,
     "metadata": {},
     "output_type": "execute_result"
    },
    {
     "data": {
      "image/png": "[encoded data removed]",
      "text/plain": [
       "<matplotlib.figure.Figure at 0x7f3856659b00>"
      ]
     },
     "metadata": {},
     "output_type": "display_data"
    }
   ],
   "source": [
    "(submission_urls\n",
    " .loc[~submission_urls.root_url.str.contains('reddit|imgur|redd.it')]\n",
    " .root_url.value_counts().iloc[0:40]\n",
    " .plot.bar(figsize=(14, 6), \n",
    "           title='NZ subreddit hot submission URLs at 2017-09-24 23:00 CEST')\n",
    ")"
   ]
  },
  {
   "cell_type": "code",
   "execution_count": 66,
   "metadata": {
    "collapsed": false
   },
   "outputs": [
    {
     "data": {
      "text/plain": [
       "www.nzherald.co.nz             69\n",
       "www.newshub.co.nz              64\n",
       "www.stuff.co.nz                62\n",
       "www.radionz.co.nz              50\n",
       "www.tvnz.co.nz                 20\n",
       "www.newsroom.co.nz             17\n",
       "youtu.be                       16\n",
       "www.facebook.com               16\n",
       "thespinoff.co.nz               14\n",
       "twitter.com                    11\n",
       "www.youtube.com                11\n",
       "www.interest.co.nz              6\n",
       "www.vice.com                    5\n",
       "www.scoop.co.nz                 4\n",
       "www.theguardian.com             4\n",
       "www.msn.com                     2\n",
       "www.abc.net.au                  2\n",
       "www.nbr.co.nz                   2\n",
       "thestandard.org.nz              2\n",
       "www.cradletogravy.co.nz         2\n",
       "en.wikipedia.org                2\n",
       "thedailyblog.co.nz              2\n",
       "www.greaterauckland.org.nz      2\n",
       "www.maoritelevision.com         2\n",
       "www.odt.co.nz                   2\n",
       "www.otago.ac.nz                 2\n",
       "publicaddress.net               2\n",
       "vjmpublishing.nz                2\n",
       "www.elections.org.nz            2\n",
       "thewireless.co.nz               2\n",
       "magic-mustard.com               2\n",
       "www.peoplesagenda.nz            1\n",
       "www.reuters.com                 1\n",
       "www.planetaudio.org.nz          1\n",
       "www.euractiv.com                1\n",
       "www.companiesoffice.govt.nz     1\n",
       "thejackalman.blogspot.co.nz     1\n",
       "www.wilsoncenter.org            1\n",
       "www.newscientist.com            1\n",
       "www.c-span.org                  1\n",
       "Name: root_url, dtype: int64"
      ]
     },
     "execution_count": 66,
     "metadata": {},
     "output_type": "execute_result"
    }
   ],
   "source": [
    "(submission_urls\n",
    " .loc[~submission_urls.root_url.str.contains('reddit|imgur|redd.it')]\n",
    " .root_url.value_counts().iloc[0:40]\n",
    ")"
   ]
  },
  {
   "cell_type": "code",
   "execution_count": null,
   "metadata": {
    "collapsed": true
   },
   "outputs": [],
   "source": []
  }
 ],
 "metadata": {
  "kernelspec": {
   "display_name": "Python 3",
   "language": "python",
   "name": "python3"
  },
  "language_info": {
   "codemirror_mode": {
    "name": "ipython",
    "version": 3
   },
   "file_extension": ".py",
   "mimetype": "text/x-python",
   "name": "python",
   "nbconvert_exporter": "python",
   "pygments_lexer": "ipython3",
   "version": "3.6.0"
  }
 },
 "nbformat": 4,
 "nbformat_minor": 2
}
